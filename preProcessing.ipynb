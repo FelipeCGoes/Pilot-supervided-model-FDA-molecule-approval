{
 "cells": [
  {
   "cell_type": "code",
   "execution_count": 2,
   "metadata": {},
   "outputs": [],
   "source": [
    "import pandas as pd\n",
    "import seaborn as sns\n",
    "import matplotlib.pyplot as plt\n",
    "import sklearn\n",
    "import numpy as np\n",
    "from matplotlib.cbook import boxplot_stats\n",
    "\n",
    "base = pd.read_csv(\"drugmap_ready_for_analysis.csv\")"
   ]
  },
  {
   "cell_type": "code",
   "execution_count": 2,
   "metadata": {},
   "outputs": [],
   "source": [
    "base.rename(columns={\"CS\": \"SMILES\"}, inplace=True)\n",
    "base.rename(columns={\"HS\": \"Status\"}, inplace=True)"
   ]
  },
  {
   "cell_type": "code",
   "execution_count": 59,
   "metadata": {},
   "outputs": [
    {
     "name": "stdout",
     "output_type": "stream",
     "text": [
      "<class 'pandas.core.frame.DataFrame'>\n",
      "RangeIndex: 21396 entries, 0 to 21395\n",
      "Data columns (total 18 columns):\n",
      " #   Column  Non-Null Count  Dtype  \n",
      "---  ------  --------------  -----  \n",
      " 0   ID      21396 non-null  object \n",
      " 1   DN      21396 non-null  object \n",
      " 2   Status  21396 non-null  object \n",
      " 3   SN      19946 non-null  object \n",
      " 4   CP      5278 non-null   object \n",
      " 5   TC      1557 non-null   object \n",
      " 6   DT      21396 non-null  object \n",
      " 7   SQ      25 non-null     object \n",
      " 8   PC      21396 non-null  int64  \n",
      " 9   MW      21396 non-null  float64\n",
      " 10  FM      21396 non-null  object \n",
      " 11  IC      21395 non-null  object \n",
      " 12  SMILES  21396 non-null  object \n",
      " 13  IK      21396 non-null  object \n",
      " 14  IU      21379 non-null  object \n",
      " 15  CA      9852 non-null   object \n",
      " 16  CB      4501 non-null   object \n",
      " 17  DE      19310 non-null  object \n",
      "dtypes: float64(1), int64(1), object(16)\n",
      "memory usage: 2.9+ MB\n"
     ]
    }
   ],
   "source": [
    "base.info()"
   ]
  },
  {
   "cell_type": "code",
   "execution_count": null,
   "metadata": {},
   "outputs": [],
   "source": [
    "base.Status.value_counts()"
   ]
  },
  {
   "cell_type": "code",
   "execution_count": null,
   "metadata": {},
   "outputs": [
    {
     "data": {
      "text/plain": [
       "0"
      ]
     },
     "execution_count": 26,
     "metadata": {},
     "output_type": "execute_result"
    }
   ],
   "source": [
    "base.Status.isnull().sum()"
   ]
  },
  {
   "cell_type": "code",
   "execution_count": null,
   "metadata": {},
   "outputs": [],
   "source": [
    "binaryBase = base[(base.Status == \"Approved\") | (base.Status == \"Terminated\") | (base.Status == \"Discontinued in Phase 2\") | (base.Status == \"Discontinued in Phase 1\") | (base.Status == \"Discontinued in Phase 3\") | (base.Status == \"Withdrawn from market\") | (base.Status == \"Discontinued in Preregistration\") | (base.Status == \"Discontinued in Phase 1/2\") | (base.Status == \"Discontinued in Phase 4\") | (base.Status == \"Approved (orphan drug)\") | (base.Status == \"Approval submitted\") | (base.Status == \"Discontinued in Phase 2b\") | (base.Status == \"Discontinued in Phase 2a\")].copy()"
   ]
  },
  {
   "cell_type": "code",
   "execution_count": null,
   "metadata": {},
   "outputs": [],
   "source": [
    "binaryBase.replace(\"Approved\", 1.0, inplace=True)\n",
    "binaryBase.replace(\"Approved (orphan drug)\", 1.0, inplace=True)\n",
    "binaryBase.replace(\"Approval submitted\", 1.0, inplace=True)\n",
    "\n",
    "binaryBase.replace(\"Terminated\", 0.0, inplace=True)\n",
    "binaryBase.replace(\"Discontinued in Phase 2\", 0.0, inplace=True)\n",
    "binaryBase.replace(\"Discontinued in Phase 1\", 0.0, inplace=True)\n",
    "binaryBase.replace(\"Discontinued in Phase 3\", 0.0, inplace=True)\n",
    "binaryBase.replace(\"Withdrawn from market\", 0.0, inplace=True)\n",
    "binaryBase.replace(\"Discontinued in Preregistration\", 0.0, inplace=True)\n",
    "binaryBase.replace(\"Discontinued in Phase 1/2\", 0.0, inplace=True)\n",
    "binaryBase.replace(\"Discontinued in Phase 4\", 0.0, inplace=True)\n",
    "binaryBase.replace(\"Discontinued in Phase 2b\", 0.0, inplace=True)\n",
    "binaryBase.replace(\"Discontinued in Phase 2a\", 0.0, inplace=True)"
   ]
  },
  {
   "cell_type": "code",
   "execution_count": null,
   "metadata": {},
   "outputs": [],
   "source": [
    "binaryBase.info()"
   ]
  },
  {
   "cell_type": "code",
   "execution_count": 32,
   "metadata": {},
   "outputs": [
    {
     "name": "stdout",
     "output_type": "stream",
     "text": [
      "2\n"
     ]
    }
   ],
   "source": [
    "duplicate_values = binaryBase['SMILES'].duplicated()\n",
    "print(duplicate_values.sum())"
   ]
  },
  {
   "cell_type": "code",
   "execution_count": 33,
   "metadata": {},
   "outputs": [],
   "source": [
    "binaryBase.drop_duplicates(subset=['SMILES'], keep='first', inplace=True)"
   ]
  },
  {
   "cell_type": "code",
   "execution_count": null,
   "metadata": {},
   "outputs": [],
   "source": [
    "#Seleção de propriedades de interesse após análise\n",
    "binaryBase = binaryBase[[\"SMILES\", \"MW\", \"Status\"]].copy()"
   ]
  },
  {
   "cell_type": "code",
   "execution_count": null,
   "metadata": {},
   "outputs": [],
   "source": [
    "#Os smiles das moleculas do dataset binaryBase foram enviados a um modelo de predição de propriedades ADMET retornando uma base enriquecida com um novo conjunto de propriedades\n",
    "baseBinariaEnriquecida = pd.read_csv(\"baseBinariaEnriquecida.csv\")\n",
    "baseBinariaEnriquecida.sort_values(by=\"Query\", ascending=True, inplace=True)"
   ]
  },
  {
   "cell_type": "code",
   "execution_count": 36,
   "metadata": {},
   "outputs": [
    {
     "name": "stdout",
     "output_type": "stream",
     "text": [
      "2\n"
     ]
    }
   ],
   "source": [
    "duplicate_values = baseBinariaEnriquecida['SMILES'].duplicated()\n",
    "print(duplicate_values.sum())"
   ]
  },
  {
   "cell_type": "code",
   "execution_count": 37,
   "metadata": {},
   "outputs": [],
   "source": [
    "baseBinariaEnriquecida.drop_duplicates(subset=['SMILES'], keep='first', inplace=True)"
   ]
  },
  {
   "cell_type": "code",
   "execution_count": 38,
   "metadata": {},
   "outputs": [],
   "source": [
    "finalDf = pd.merge(binaryBase, baseBinariaEnriquecida, how = 'inner', on = 'SMILES')"
   ]
  },
  {
   "cell_type": "code",
   "execution_count": 39,
   "metadata": {},
   "outputs": [
    {
     "data": {
      "text/html": [
       "<div>\n",
       "<style scoped>\n",
       "    .dataframe tbody tr th:only-of-type {\n",
       "        vertical-align: middle;\n",
       "    }\n",
       "\n",
       "    .dataframe tbody tr th {\n",
       "        vertical-align: top;\n",
       "    }\n",
       "\n",
       "    .dataframe thead th {\n",
       "        text-align: right;\n",
       "    }\n",
       "</style>\n",
       "<table border=\"1\" class=\"dataframe\">\n",
       "  <thead>\n",
       "    <tr style=\"text-align: right;\">\n",
       "      <th></th>\n",
       "      <th>SMILES</th>\n",
       "      <th>MW</th>\n",
       "      <th>Status</th>\n",
       "      <th>Query</th>\n",
       "      <th>DILI</th>\n",
       "      <th>Cyto- toxicity</th>\n",
       "      <th>HLM</th>\n",
       "      <th>Cyp1A2 Inhibitor</th>\n",
       "      <th>Cyp3A4 Inhibitor</th>\n",
       "      <th>Cyp2D6 Inhibitor</th>\n",
       "      <th>Cyp2C9 Inhibitor</th>\n",
       "      <th>Cyp2C19 Inhibitor</th>\n",
       "      <th>BBB</th>\n",
       "      <th>P-gp Inhibitor</th>\n",
       "      <th>P-gp Substrate</th>\n",
       "      <th>hERG Blocker</th>\n",
       "      <th>MMP</th>\n",
       "      <th>AMES</th>\n",
       "      <th>MRTD (mg/day)</th>\n",
       "    </tr>\n",
       "  </thead>\n",
       "  <tbody>\n",
       "    <tr>\n",
       "      <th>0</th>\n",
       "      <td>C[C@H](C1=CC=CC=N1)C2=C(CC3=CC=CC=C32)CCN(C)C....</td>\n",
       "      <td>408.50</td>\n",
       "      <td>1.0</td>\n",
       "      <td>0</td>\n",
       "      <td>No</td>\n",
       "      <td>No</td>\n",
       "      <td>Yes</td>\n",
       "      <td>No</td>\n",
       "      <td>No</td>\n",
       "      <td>No</td>\n",
       "      <td>Yes</td>\n",
       "      <td>Yes</td>\n",
       "      <td>Yes</td>\n",
       "      <td>Yes</td>\n",
       "      <td>No</td>\n",
       "      <td>No</td>\n",
       "      <td>No</td>\n",
       "      <td>No</td>\n",
       "      <td>6.3</td>\n",
       "    </tr>\n",
       "    <tr>\n",
       "      <th>1</th>\n",
       "      <td>C(C=O)[C@H]([C@@H]([C@@H](CO)O)O)O</td>\n",
       "      <td>164.16</td>\n",
       "      <td>1.0</td>\n",
       "      <td>1</td>\n",
       "      <td>No</td>\n",
       "      <td>No</td>\n",
       "      <td>Yes</td>\n",
       "      <td>No</td>\n",
       "      <td>No</td>\n",
       "      <td>No</td>\n",
       "      <td>No</td>\n",
       "      <td>No</td>\n",
       "      <td>No</td>\n",
       "      <td>No</td>\n",
       "      <td>No</td>\n",
       "      <td>No</td>\n",
       "      <td>No</td>\n",
       "      <td>No</td>\n",
       "      <td>45013.0</td>\n",
       "    </tr>\n",
       "    <tr>\n",
       "      <th>2</th>\n",
       "      <td>CC(C)(C[N+]#[C-])OC.CC(C)(C[N+]#[C-])OC.CC(C)(...</td>\n",
       "      <td>777.90</td>\n",
       "      <td>1.0</td>\n",
       "      <td>2</td>\n",
       "      <td>Yes</td>\n",
       "      <td>No</td>\n",
       "      <td>Yes</td>\n",
       "      <td>No</td>\n",
       "      <td>No</td>\n",
       "      <td>No</td>\n",
       "      <td>No</td>\n",
       "      <td>No</td>\n",
       "      <td>Yes</td>\n",
       "      <td>No</td>\n",
       "      <td>No</td>\n",
       "      <td>No</td>\n",
       "      <td>No</td>\n",
       "      <td>No</td>\n",
       "      <td>415.0</td>\n",
       "    </tr>\n",
       "    <tr>\n",
       "      <th>3</th>\n",
       "      <td>C1CC1NC2=C3C(=NC(=N2)N)N(C=N3)[C@@H]4C[C@@H](C...</td>\n",
       "      <td>286.33</td>\n",
       "      <td>1.0</td>\n",
       "      <td>3</td>\n",
       "      <td>Yes</td>\n",
       "      <td>No</td>\n",
       "      <td>Yes</td>\n",
       "      <td>No</td>\n",
       "      <td>No</td>\n",
       "      <td>No</td>\n",
       "      <td>No</td>\n",
       "      <td>No</td>\n",
       "      <td>No</td>\n",
       "      <td>No</td>\n",
       "      <td>No</td>\n",
       "      <td>No</td>\n",
       "      <td>No</td>\n",
       "      <td>No</td>\n",
       "      <td>109.0</td>\n",
       "    </tr>\n",
       "    <tr>\n",
       "      <th>4</th>\n",
       "      <td>CC1=CN=C(C=C1)C2=NC=C(C=C2)C</td>\n",
       "      <td>184.24</td>\n",
       "      <td>1.0</td>\n",
       "      <td>4</td>\n",
       "      <td>Yes</td>\n",
       "      <td>No</td>\n",
       "      <td>Yes</td>\n",
       "      <td>No</td>\n",
       "      <td>No</td>\n",
       "      <td>No</td>\n",
       "      <td>No</td>\n",
       "      <td>No</td>\n",
       "      <td>Yes</td>\n",
       "      <td>No</td>\n",
       "      <td>No</td>\n",
       "      <td>No</td>\n",
       "      <td>No</td>\n",
       "      <td>No</td>\n",
       "      <td>116.0</td>\n",
       "    </tr>\n",
       "    <tr>\n",
       "      <th>...</th>\n",
       "      <td>...</td>\n",
       "      <td>...</td>\n",
       "      <td>...</td>\n",
       "      <td>...</td>\n",
       "      <td>...</td>\n",
       "      <td>...</td>\n",
       "      <td>...</td>\n",
       "      <td>...</td>\n",
       "      <td>...</td>\n",
       "      <td>...</td>\n",
       "      <td>...</td>\n",
       "      <td>...</td>\n",
       "      <td>...</td>\n",
       "      <td>...</td>\n",
       "      <td>...</td>\n",
       "      <td>...</td>\n",
       "      <td>...</td>\n",
       "      <td>...</td>\n",
       "      <td>...</td>\n",
       "    </tr>\n",
       "    <tr>\n",
       "      <th>3628</th>\n",
       "      <td>CCOC(=O)C1=NC=C2C(=C1C)C3=C(N2)C=CC=C3OC(C)C</td>\n",
       "      <td>312.40</td>\n",
       "      <td>0.0</td>\n",
       "      <td>3630</td>\n",
       "      <td>No</td>\n",
       "      <td>No</td>\n",
       "      <td>Yes</td>\n",
       "      <td>No</td>\n",
       "      <td>No</td>\n",
       "      <td>No</td>\n",
       "      <td>No</td>\n",
       "      <td>No</td>\n",
       "      <td>Yes</td>\n",
       "      <td>No</td>\n",
       "      <td>No</td>\n",
       "      <td>No</td>\n",
       "      <td>No</td>\n",
       "      <td>No</td>\n",
       "      <td>163.0</td>\n",
       "    </tr>\n",
       "    <tr>\n",
       "      <th>3629</th>\n",
       "      <td>CCN1C2=C(C=CC1=O)C=C(C=C2)COC3=CC(=CC(=C3)C4(C...</td>\n",
       "      <td>411.50</td>\n",
       "      <td>0.0</td>\n",
       "      <td>3631</td>\n",
       "      <td>Yes</td>\n",
       "      <td>No</td>\n",
       "      <td>Yes</td>\n",
       "      <td>No</td>\n",
       "      <td>No</td>\n",
       "      <td>No</td>\n",
       "      <td>No</td>\n",
       "      <td>No</td>\n",
       "      <td>Yes</td>\n",
       "      <td>Yes</td>\n",
       "      <td>No</td>\n",
       "      <td>Yes</td>\n",
       "      <td>No</td>\n",
       "      <td>Yes</td>\n",
       "      <td>171.0</td>\n",
       "    </tr>\n",
       "    <tr>\n",
       "      <th>3630</th>\n",
       "      <td>C1=COC(=C1)C2=NN3C(=NC(=NC3=N2)NCCC4=CC=C(C=C4...</td>\n",
       "      <td>337.34</td>\n",
       "      <td>0.0</td>\n",
       "      <td>3632</td>\n",
       "      <td>Yes</td>\n",
       "      <td>No</td>\n",
       "      <td>Yes</td>\n",
       "      <td>No</td>\n",
       "      <td>No</td>\n",
       "      <td>No</td>\n",
       "      <td>No</td>\n",
       "      <td>No</td>\n",
       "      <td>No</td>\n",
       "      <td>No</td>\n",
       "      <td>No</td>\n",
       "      <td>No</td>\n",
       "      <td>No</td>\n",
       "      <td>No</td>\n",
       "      <td>173.0</td>\n",
       "    </tr>\n",
       "    <tr>\n",
       "      <th>3631</th>\n",
       "      <td>C1=CN(C=N1)C2=C(C=C3C(=C2)N(C(=O)C(=O)N3)CC(=O...</td>\n",
       "      <td>331.24</td>\n",
       "      <td>0.0</td>\n",
       "      <td>3633</td>\n",
       "      <td>Yes</td>\n",
       "      <td>No</td>\n",
       "      <td>Yes</td>\n",
       "      <td>No</td>\n",
       "      <td>No</td>\n",
       "      <td>No</td>\n",
       "      <td>No</td>\n",
       "      <td>No</td>\n",
       "      <td>No</td>\n",
       "      <td>No</td>\n",
       "      <td>No</td>\n",
       "      <td>No</td>\n",
       "      <td>No</td>\n",
       "      <td>Yes</td>\n",
       "      <td>212.0</td>\n",
       "    </tr>\n",
       "    <tr>\n",
       "      <th>3632</th>\n",
       "      <td>C1=CC2=C(C=C1Cl)N=C(O2)N</td>\n",
       "      <td>168.58</td>\n",
       "      <td>0.0</td>\n",
       "      <td>3634</td>\n",
       "      <td>Yes</td>\n",
       "      <td>Yes</td>\n",
       "      <td>Yes</td>\n",
       "      <td>No</td>\n",
       "      <td>No</td>\n",
       "      <td>No</td>\n",
       "      <td>No</td>\n",
       "      <td>No</td>\n",
       "      <td>Yes</td>\n",
       "      <td>No</td>\n",
       "      <td>No</td>\n",
       "      <td>No</td>\n",
       "      <td>No</td>\n",
       "      <td>Yes</td>\n",
       "      <td>123.0</td>\n",
       "    </tr>\n",
       "  </tbody>\n",
       "</table>\n",
       "<p>3633 rows × 19 columns</p>\n",
       "</div>"
      ],
      "text/plain": [
       "                                                 SMILES      MW  Status  \\\n",
       "0     C[C@H](C1=CC=CC=N1)C2=C(CC3=CC=CC=C32)CCN(C)C....  408.50     1.0   \n",
       "1                    C(C=O)[C@H]([C@@H]([C@@H](CO)O)O)O  164.16     1.0   \n",
       "2     CC(C)(C[N+]#[C-])OC.CC(C)(C[N+]#[C-])OC.CC(C)(...  777.90     1.0   \n",
       "3     C1CC1NC2=C3C(=NC(=N2)N)N(C=N3)[C@@H]4C[C@@H](C...  286.33     1.0   \n",
       "4                          CC1=CN=C(C=C1)C2=NC=C(C=C2)C  184.24     1.0   \n",
       "...                                                 ...     ...     ...   \n",
       "3628       CCOC(=O)C1=NC=C2C(=C1C)C3=C(N2)C=CC=C3OC(C)C  312.40     0.0   \n",
       "3629  CCN1C2=C(C=CC1=O)C=C(C=C2)COC3=CC(=CC(=C3)C4(C...  411.50     0.0   \n",
       "3630  C1=COC(=C1)C2=NN3C(=NC(=NC3=N2)NCCC4=CC=C(C=C4...  337.34     0.0   \n",
       "3631  C1=CN(C=N1)C2=C(C=C3C(=C2)N(C(=O)C(=O)N3)CC(=O...  331.24     0.0   \n",
       "3632                           C1=CC2=C(C=C1Cl)N=C(O2)N  168.58     0.0   \n",
       "\n",
       "      Query DILI Cyto- toxicity  HLM Cyp1A2 Inhibitor Cyp3A4 Inhibitor  \\\n",
       "0         0   No             No  Yes               No               No   \n",
       "1         1   No             No  Yes               No               No   \n",
       "2         2  Yes             No  Yes               No               No   \n",
       "3         3  Yes             No  Yes               No               No   \n",
       "4         4  Yes             No  Yes               No               No   \n",
       "...     ...  ...            ...  ...              ...              ...   \n",
       "3628   3630   No             No  Yes               No               No   \n",
       "3629   3631  Yes             No  Yes               No               No   \n",
       "3630   3632  Yes             No  Yes               No               No   \n",
       "3631   3633  Yes             No  Yes               No               No   \n",
       "3632   3634  Yes            Yes  Yes               No               No   \n",
       "\n",
       "     Cyp2D6 Inhibitor Cyp2C9 Inhibitor Cyp2C19 Inhibitor  BBB P-gp Inhibitor  \\\n",
       "0                  No              Yes               Yes  Yes            Yes   \n",
       "1                  No               No                No   No             No   \n",
       "2                  No               No                No  Yes             No   \n",
       "3                  No               No                No   No             No   \n",
       "4                  No               No                No  Yes             No   \n",
       "...               ...              ...               ...  ...            ...   \n",
       "3628               No               No                No  Yes             No   \n",
       "3629               No               No                No  Yes            Yes   \n",
       "3630               No               No                No   No             No   \n",
       "3631               No               No                No   No             No   \n",
       "3632               No               No                No  Yes             No   \n",
       "\n",
       "     P-gp Substrate hERG Blocker MMP AMES  MRTD (mg/day)  \n",
       "0                No           No  No   No            6.3  \n",
       "1                No           No  No   No        45013.0  \n",
       "2                No           No  No   No          415.0  \n",
       "3                No           No  No   No          109.0  \n",
       "4                No           No  No   No          116.0  \n",
       "...             ...          ...  ..  ...            ...  \n",
       "3628             No           No  No   No          163.0  \n",
       "3629             No          Yes  No  Yes          171.0  \n",
       "3630             No           No  No   No          173.0  \n",
       "3631             No           No  No  Yes          212.0  \n",
       "3632             No           No  No  Yes          123.0  \n",
       "\n",
       "[3633 rows x 19 columns]"
      ]
     },
     "execution_count": 39,
     "metadata": {},
     "output_type": "execute_result"
    }
   ],
   "source": [
    "finalDf"
   ]
  },
  {
   "cell_type": "code",
   "execution_count": 40,
   "metadata": {},
   "outputs": [
    {
     "name": "stdout",
     "output_type": "stream",
     "text": [
      "<class 'pandas.core.frame.DataFrame'>\n",
      "RangeIndex: 3633 entries, 0 to 3632\n",
      "Data columns (total 19 columns):\n",
      " #   Column             Non-Null Count  Dtype  \n",
      "---  ------             --------------  -----  \n",
      " 0   SMILES             3633 non-null   object \n",
      " 1   MW                 3633 non-null   float64\n",
      " 2   Status             3633 non-null   float64\n",
      " 3   Query              3633 non-null   int64  \n",
      " 4   DILI               3633 non-null   object \n",
      " 5   Cyto- toxicity     3633 non-null   object \n",
      " 6   HLM                3633 non-null   object \n",
      " 7   Cyp1A2 Inhibitor   3633 non-null   object \n",
      " 8   Cyp3A4 Inhibitor   3633 non-null   object \n",
      " 9   Cyp2D6 Inhibitor   3633 non-null   object \n",
      " 10  Cyp2C9 Inhibitor   3633 non-null   object \n",
      " 11  Cyp2C19 Inhibitor  3633 non-null   object \n",
      " 12  BBB                3633 non-null   object \n",
      " 13  P-gp Inhibitor     3633 non-null   object \n",
      " 14  P-gp Substrate     3633 non-null   object \n",
      " 15  hERG Blocker       3633 non-null   object \n",
      " 16  MMP                3633 non-null   object \n",
      " 17  AMES               3633 non-null   object \n",
      " 18  MRTD (mg/day)      3633 non-null   float64\n",
      "dtypes: float64(3), int64(1), object(15)\n",
      "memory usage: 539.4+ KB\n"
     ]
    }
   ],
   "source": [
    "finalDf.info()"
   ]
  },
  {
   "cell_type": "code",
   "execution_count": 41,
   "metadata": {},
   "outputs": [
    {
     "data": {
      "text/plain": [
       "SMILES               0\n",
       "MW                   0\n",
       "Status               0\n",
       "Query                0\n",
       "DILI                 0\n",
       "Cyto- toxicity       0\n",
       "HLM                  0\n",
       "Cyp1A2 Inhibitor     0\n",
       "Cyp3A4 Inhibitor     0\n",
       "Cyp2D6 Inhibitor     0\n",
       "Cyp2C9 Inhibitor     0\n",
       "Cyp2C19 Inhibitor    0\n",
       "BBB                  0\n",
       "P-gp Inhibitor       0\n",
       "P-gp Substrate       0\n",
       "hERG Blocker         0\n",
       "MMP                  0\n",
       "AMES                 0\n",
       "MRTD (mg/day)        0\n",
       "dtype: int64"
      ]
     },
     "execution_count": 41,
     "metadata": {},
     "output_type": "execute_result"
    }
   ],
   "source": [
    "finalDf.isnull().sum()"
   ]
  },
  {
   "cell_type": "code",
   "execution_count": 42,
   "metadata": {},
   "outputs": [],
   "source": [
    "finalDf.drop([\"Query\"], axis=1, inplace=True)"
   ]
  },
  {
   "cell_type": "code",
   "execution_count": null,
   "metadata": {},
   "outputs": [
    {
     "name": "stderr",
     "output_type": "stream",
     "text": [
      "C:\\Users\\felip\\AppData\\Local\\Temp\\ipykernel_4500\\770504697.py:3: FutureWarning: Downcasting behavior in `replace` is deprecated and will be removed in a future version. To retain the old behavior, explicitly call `result.infer_objects(copy=False)`. To opt-in to the future behavior, set `pd.set_option('future.no_silent_downcasting', True)`\n",
      "  finalDf.replace(\"No\", 1.0, inplace=True)\n"
     ]
    }
   ],
   "source": [
    "#Em todos os atribitos sim é ruim e não é bom\n",
    "finalDf.replace(\"Yes\", 0.0, inplace=True)\n",
    "finalDf.replace(\"No\", 1.0, inplace=True)"
   ]
  },
  {
   "cell_type": "code",
   "execution_count": 34,
   "metadata": {},
   "outputs": [],
   "source": [
    "finalDf.drop([\"SMILES\"], axis=1, inplace=True)"
   ]
  },
  {
   "cell_type": "code",
   "execution_count": 5,
   "metadata": {},
   "outputs": [
    {
     "name": "stdout",
     "output_type": "stream",
     "text": [
      "0\n"
     ]
    }
   ],
   "source": [
    "duplicate_values_finalDf = finalDf.duplicated()\n",
    "print(duplicate_values_finalDf.sum())"
   ]
  },
  {
   "cell_type": "code",
   "execution_count": 35,
   "metadata": {},
   "outputs": [
    {
     "data": {
      "image/png": "[encoded data removed]",
      "text/plain": [
       "<Figure size 640x480 with 1 Axes>"
      ]
     },
     "metadata": {},
     "output_type": "display_data"
    }
   ],
   "source": [
    "boxplot = sns.boxplot(data=finalDf['MRTD (mg/day)'])"
   ]
  },
  {
   "cell_type": "code",
   "execution_count": null,
   "metadata": {},
   "outputs": [],
   "source": [
    "outliers = boxplot_stats(finalDf[\"MRTD (mg/day)\"]).pop(0)['fliers']\n",
    "\n",
    "dropIndex1 = np.where(finalDf[\"MRTD (mg/day)\"].isin(outliers))[0]\n",
    "print(len(dropIndex1))"
   ]
  },
  {
   "cell_type": "code",
   "execution_count": 37,
   "metadata": {},
   "outputs": [
    {
     "data": {
      "image/png": "[encoded data removed]",
      "text/plain": [
       "<Figure size 640x480 with 1 Axes>"
      ]
     },
     "metadata": {},
     "output_type": "display_data"
    }
   ],
   "source": [
    "outliers2 = sns.boxplot(data=finalDf['MW'])"
   ]
  },
  {
   "cell_type": "code",
   "execution_count": null,
   "metadata": {},
   "outputs": [],
   "source": [
    "outliers2 = boxplot_stats(finalDf[\"MW\"]).pop(0)['fliers']\n",
    "\n",
    "dropIndex2 = np.where(finalDf[\"MW\"].isin(outliers2))[0]\n",
    "print(len(dropIndex2))"
   ]
  },
  {
   "cell_type": "code",
   "execution_count": null,
   "metadata": {},
   "outputs": [
    {
     "name": "stdout",
     "output_type": "stream",
     "text": [
      "767\n"
     ]
    }
   ],
   "source": [
    "dropIndexes = np.concatenate ((dropIndex1,dropIndex2), axis=0)\n",
    "print(len(dropIndexes))"
   ]
  },
  {
   "cell_type": "code",
   "execution_count": null,
   "metadata": {},
   "outputs": [],
   "source": [
    "#finalDf.drop(dropIndexes, axis=0,  inplace=True) - Foi feita uma variação da base removendo outliers de valores nas propriedades numéricas. "
   ]
  },
  {
   "cell_type": "code",
   "execution_count": 47,
   "metadata": {},
   "outputs": [],
   "source": [
    "from sklearn.preprocessing import MinMaxScaler\n",
    "scaler = MinMaxScaler()\n",
    "columns = finalDf.columns\n",
    "finalDf = pd.DataFrame(scaler.fit_transform(finalDf), columns=columns)"
   ]
  },
  {
   "cell_type": "code",
   "execution_count": null,
   "metadata": {},
   "outputs": [],
   "source": [
    "finalDf.info()"
   ]
  },
  {
   "cell_type": "code",
   "execution_count": 31,
   "metadata": {},
   "outputs": [
    {
     "data": {
      "text/plain": [
       "<Axes: >"
      ]
     },
     "execution_count": 31,
     "metadata": {},
     "output_type": "execute_result"
    },
    {
     "data": {
      "image/png": "[encoded data removed]",
      "text/plain": [
       "<Figure size 640x480 with 2 Axes>"
      ]
     },
     "metadata": {},
     "output_type": "display_data"
    }
   ],
   "source": [
    "sns.heatmap(finalDf.corr())"
   ]
  },
  {
   "cell_type": "code",
   "execution_count": 34,
   "metadata": {},
   "outputs": [
    {
     "data": {
      "text/plain": [
       "Status\n",
       "1.0    1964\n",
       "0.0    1669\n",
       "Name: count, dtype: int64"
      ]
     },
     "execution_count": 34,
     "metadata": {},
     "output_type": "execute_result"
    }
   ],
   "source": [
    "finalDf.Status.value_counts()"
   ]
  },
  {
   "cell_type": "code",
   "execution_count": 39,
   "metadata": {},
   "outputs": [
    {
     "data": {
      "text/plain": [
       "<Axes: xlabel='MW', ylabel='BBB'>"
      ]
     },
     "execution_count": 39,
     "metadata": {},
     "output_type": "execute_result"
    },
    {
     "data": {
      "image/png": "[encoded data removed]",
      "text/plain": [
       "<Figure size 640x480 with 1 Axes>"
      ]
     },
     "metadata": {},
     "output_type": "display_data"
    }
   ],
   "source": [
    "sns.scatterplot(x=\"MW\", y=\"BBB\", hue=\"Status\", data=finalDf)"
   ]
  },
  {
   "cell_type": "code",
   "execution_count": 49,
   "metadata": {},
   "outputs": [],
   "source": [
    "finalDf.to_csv('baseE&PFinal.csv', index=False)"
   ]
  }
 ],
 "metadata": {
  "kernelspec": {
   "display_name": "Python 3",
   "language": "python",
   "name": "python3"
  },
  "language_info": {
   "codemirror_mode": {
    "name": "ipython",
    "version": 3
   },
   "file_extension": ".py",
   "mimetype": "text/x-python",
   "name": "python",
   "nbconvert_exporter": "python",
   "pygments_lexer": "ipython3",
   "version": "3.11.9"
  }
 },
 "nbformat": 4,
 "nbformat_minor": 2
}
