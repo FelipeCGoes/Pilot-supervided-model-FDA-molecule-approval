{
 "cells": [
  {
   "cell_type": "code",
   "execution_count": 2,
   "metadata": {
    "id": "k5fa17qJB63S"
   },
   "outputs": [],
   "source": [
    "import pandas as pd\n",
    "import numpy as np\n",
    "import matplotlib.pyplot as plt\n",
    "\n",
    "\n",
    "from sklearn.neighbors import KNeighborsClassifier\n",
    "from sklearn.linear_model import LogisticRegression\n",
    "from sklearn.tree import DecisionTreeClassifier\n",
    "from sklearn.ensemble import RandomForestClassifier\n",
    "from sklearn.svm import SVC\n",
    "from sklearn.model_selection import GridSearchCV\n",
    "from sklearn.model_selection import cross_val_score\n",
    "from sklearn.metrics import accuracy_score\n",
    "\n",
    "pd.options.display.max_columns=20"
   ]
  },
  {
   "cell_type": "code",
   "execution_count": 4,
   "metadata": {
    "colab": {
     "base_uri": "https://localhost:8080/",
     "height": 217
    },
    "id": "QvCGe4Cj67bx",
    "outputId": "4cf710d1-efed-44a6-c448-ca856f484016"
   },
   "outputs": [],
   "source": [
    "base = pd.read_csv(\"baseE&PFinal.csv\")"
   ]
  },
  {
   "cell_type": "code",
   "execution_count": null,
   "metadata": {},
   "outputs": [],
   "source": [
    "from sklearn.model_selection import train_test_split\n",
    "x_train,x_test,y_train,y_test = train_test_split(base.drop(['Status'], axis=1), base['Status'], test_size=0.3)"
   ]
  },
  {
   "cell_type": "code",
   "execution_count": 11,
   "metadata": {},
   "outputs": [
    {
     "name": "stdout",
     "output_type": "stream",
     "text": [
      "<class 'pandas.core.frame.DataFrame'>\n",
      "Index: 1090 entries, 2092 to 992\n",
      "Data columns (total 16 columns):\n",
      " #   Column             Non-Null Count  Dtype  \n",
      "---  ------             --------------  -----  \n",
      " 0   MW                 1090 non-null   float64\n",
      " 1   DILI               1090 non-null   float64\n",
      " 2   Cyto- toxicity     1090 non-null   float64\n",
      " 3   HLM                1090 non-null   float64\n",
      " 4   Cyp1A2 Inhibitor   1090 non-null   float64\n",
      " 5   Cyp3A4 Inhibitor   1090 non-null   float64\n",
      " 6   Cyp2D6 Inhibitor   1090 non-null   float64\n",
      " 7   Cyp2C9 Inhibitor   1090 non-null   float64\n",
      " 8   Cyp2C19 Inhibitor  1090 non-null   float64\n",
      " 9   BBB                1090 non-null   float64\n",
      " 10  P-gp Inhibitor     1090 non-null   float64\n",
      " 11  P-gp Substrate     1090 non-null   float64\n",
      " 12  hERG Blocker       1090 non-null   float64\n",
      " 13  MMP                1090 non-null   float64\n",
      " 14  AMES               1090 non-null   float64\n",
      " 15  MRTD (mg/day)      1090 non-null   float64\n",
      "dtypes: float64(16)\n",
      "memory usage: 144.8 KB\n"
     ]
    }
   ],
   "source": [
    "x_test.info()"
   ]
  },
  {
   "cell_type": "markdown",
   "metadata": {
    "id": "RAjvaRY2CMKf"
   },
   "source": [
    "KNN"
   ]
  },
  {
   "cell_type": "code",
   "execution_count": 6,
   "metadata": {
    "id": "HhorSlLcCM5m"
   },
   "outputs": [
    {
     "name": "stdout",
     "output_type": "stream",
     "text": [
      "[0.55433287 0.57634113 0.60385144 0.58953168 0.59504132]\n",
      "0.5838196899594923\n"
     ]
    }
   ],
   "source": [
    "#CROSS-VALIDAITION (Valor referência)\n",
    "\n",
    "classifier = KNeighborsClassifier()\n",
    "classifier.fit(base.drop(['Status'], axis=1), base[\"Status\"])\n",
    "\n",
    "scores = cross_val_score(classifier, base.drop(['Status'], axis=1), base[\"Status\"], cv=5)\n",
    "print(scores)\n",
    "print(np.mean(scores))"
   ]
  },
  {
   "cell_type": "code",
   "execution_count": 49,
   "metadata": {},
   "outputs": [
    {
     "name": "stdout",
     "output_type": "stream",
     "text": [
      "    mean_test_score param_metric  param_n_neighbors param_weights\n",
      "3          0.632715    euclidean                 50       uniform\n",
      "11         0.632714    manhattan                 60       uniform\n",
      "10         0.631932    manhattan                 50       uniform\n",
      "17         0.630750    minkowski                 50       uniform\n",
      "13         0.630365    manhattan                100       uniform\n",
      "12         0.628395    manhattan                 70       uniform\n",
      "20         0.627222    minkowski                100       uniform\n",
      "6          0.625258    euclidean                100       uniform\n",
      "19         0.623286    minkowski                 70       uniform\n",
      "5          0.623285    euclidean                 70       uniform\n",
      "4          0.617775    euclidean                 60       uniform\n",
      "9          0.616993    manhattan                 10       uniform\n",
      "18         0.615808    minkowski                 60       uniform\n",
      "2          0.615416    euclidean                 10       uniform\n",
      "16         0.613450    minkowski                 10       uniform\n",
      "8          0.612657    manhattan                  5       uniform\n",
      "1          0.611083    euclidean                  5       uniform\n",
      "15         0.608330    minkowski                  5       uniform\n",
      "0          0.569014    euclidean                  2       uniform\n",
      "14         0.568623    minkowski                  2       uniform\n",
      "7          0.567833    manhattan                  2       uniform\n",
      "--Best Classifier--\n",
      "Mean cv score: 0.6327150658230589\n",
      "Score with unseen data: 0.6229357798165137\n",
      "{'metric': 'euclidean', 'n_neighbors': 50, 'p': 3, 'weights': 'uniform'}\n"
     ]
    }
   ],
   "source": [
    "classifier = KNeighborsClassifier()\n",
    "\n",
    "param_grid = {\n",
    "    'n_neighbors': [2, 5, 10, 50, 60, 70, 100],\n",
    "    'metric': ['euclidean', 'manhattan', 'minkowski'],\n",
    "    'weights': ['uniform'],\n",
    "    'p': [3]\n",
    "}\n",
    "\n",
    "grid_search = GridSearchCV(estimator=classifier, param_grid=param_grid, cv=5, n_jobs=-2)\n",
    "grid_search.fit(x_train, y_train)\n",
    "\n",
    "scoreKNN = pd.DataFrame(grid_search.cv_results_)\n",
    "scoreKNN.sort_values(by=\"mean_test_score\", ascending=False, inplace=True)\n",
    "print(scoreKNN[[\"mean_test_score\", \"param_metric\", \"param_n_neighbors\", \"param_weights\"]])\n",
    "\n",
    "print(\"--Best Classifier--\")\n",
    "print(f\"Mean cv score: {grid_search.best_score_}\")\n",
    "y_pred = grid_search.best_estimator_.predict(x_test)\n",
    "scoreBestKNN = accuracy_score(y_test, y_pred)\n",
    "print(f\"Score with unseen data: {scoreBestKNN}\")\n",
    "print(grid_search.best_params_)"
   ]
  },
  {
   "cell_type": "markdown",
   "metadata": {},
   "source": [
    "DWNN"
   ]
  },
  {
   "cell_type": "code",
   "execution_count": 7,
   "metadata": {},
   "outputs": [
    {
     "name": "stdout",
     "output_type": "stream",
     "text": [
      "[0.57634113 0.59009629 0.61898212 0.59366391 0.57575758]\n",
      "0.5909682039855855\n"
     ]
    }
   ],
   "source": [
    "#CROSS VALIDATION (Valor referência)\n",
    "\n",
    "classifier = KNeighborsClassifier(weights='distance')\n",
    "classifier.fit(base.drop(['Status'], axis=1), base[\"Status\"])\n",
    "\n",
    "scores = cross_val_score(classifier, base.drop(['Status'], axis=1), base[\"Status\"], cv=5)\n",
    "print(scores)\n",
    "print(np.mean(scores))"
   ]
  },
  {
   "cell_type": "code",
   "execution_count": 52,
   "metadata": {},
   "outputs": [
    {
     "name": "stdout",
     "output_type": "stream",
     "text": [
      "    mean_test_score param_metric  param_n_neighbors param_weights\n",
      "14         0.625646    manhattan                200      distance\n",
      "15         0.621715    manhattan                210      distance\n",
      "11         0.620930    manhattan                100      distance\n",
      "12         0.620929    manhattan                120      distance\n",
      "13         0.620928    manhattan                150      distance\n",
      "16         0.620535    manhattan                220      distance\n",
      "24         0.620136    minkowski                210      distance\n",
      "26         0.619352    minkowski                250      distance\n",
      "6          0.619348    euclidean                210      distance\n",
      "20         0.618963    minkowski                100      distance\n",
      "23         0.618958    minkowski                200      distance\n",
      "21         0.618567    minkowski                120      distance\n",
      "10         0.618567    manhattan                 50      distance\n",
      "2          0.617782    euclidean                100      distance\n",
      "25         0.617778    minkowski                220      distance\n",
      "7          0.617778    euclidean                220      distance\n",
      "17         0.617389    manhattan                250      distance\n",
      "9          0.616994    manhattan                 25      distance\n",
      "5          0.616990    euclidean                200      distance\n",
      "19         0.616602    minkowski                 50      distance\n",
      "8          0.616206    euclidean                250      distance\n",
      "0          0.615814    euclidean                 25      distance\n",
      "1          0.615813    euclidean                 50      distance\n",
      "3          0.615422    euclidean                120      distance\n",
      "18         0.614241    minkowski                 25      distance\n",
      "4          0.613063    euclidean                150      distance\n",
      "22         0.613063    minkowski                150      distance\n",
      "--Best Classifier--\n",
      "Mean cv score: 0.6256462416657642\n",
      "Score with unseen data: 0.6045871559633027\n",
      "{'metric': 'manhattan', 'n_neighbors': 200, 'p': 3, 'weights': 'distance'}\n"
     ]
    }
   ],
   "source": [
    "classifier = KNeighborsClassifier()\n",
    "\n",
    "param_grid = {\n",
    "    'n_neighbors': [25, 50, 100, 120, 150, 200, 210, 220, 250],\n",
    "    'metric': ['euclidean', 'manhattan', 'minkowski'],\n",
    "    'weights': ['distance'],\n",
    "    'p': [3]\n",
    "}\n",
    "\n",
    "grid_search = GridSearchCV(estimator=classifier, param_grid=param_grid, cv=5, n_jobs=-2)\n",
    "grid_search.fit(x_train, y_train)\n",
    "\n",
    "scoreDWNN = pd.DataFrame(grid_search.cv_results_)\n",
    "scoreDWNN.sort_values(by=\"mean_test_score\", ascending=False, inplace=True)\n",
    "print(scoreDWNN[[\"mean_test_score\", \"param_metric\", \"param_n_neighbors\", \"param_weights\"]])\n",
    "\n",
    "print(\"--Best Classifier--\")\n",
    "print(f\"Mean cv score: {grid_search.best_score_}\")\n",
    "y_pred = grid_search.best_estimator_.predict(x_test)\n",
    "scoreBestDWNN = accuracy_score(y_test, y_pred)\n",
    "print(f\"Score with unseen data: {scoreBestDWNN}\")\n",
    "print(grid_search.best_params_)"
   ]
  },
  {
   "cell_type": "markdown",
   "metadata": {
    "id": "LS3Mal2wPVcm"
   },
   "source": [
    "Logistic Regression (Regressão Logística)\n"
   ]
  },
  {
   "cell_type": "code",
   "execution_count": 8,
   "metadata": {
    "id": "4yFxyN6KSYsf"
   },
   "outputs": [
    {
     "name": "stdout",
     "output_type": "stream",
     "text": [
      "[0.5997249  0.59834938 0.65337001 0.61019284 0.58264463]\n",
      "0.6088563514348184\n"
     ]
    }
   ],
   "source": [
    "#CROSS-VALIDAITION (Valor referência)\n",
    "\n",
    "classifier = LogisticRegression()\n",
    "classifier.fit(base.drop(['Status'], axis=1), base[\"Status\"])\n",
    "\n",
    "scores = cross_val_score(classifier, base.drop(['Status'], axis=1), base[\"Status\"], cv=5)\n",
    "print(scores)\n",
    "print(np.mean(scores))"
   ]
  },
  {
   "cell_type": "code",
   "execution_count": 77,
   "metadata": {},
   "outputs": [
    {
     "name": "stdout",
     "output_type": "stream",
     "text": [
      "     mean_test_score param_penalty     param_solver  param_max_iter  param_C\n",
      "79          0.599288            l2        liblinear            1000      0.5\n",
      "73          0.599288            l2        liblinear             500      0.5\n",
      "67          0.599288            l2        liblinear             200      0.5\n",
      "85          0.599288            l2        liblinear            2000      0.5\n",
      "61          0.599288            l2        liblinear             100      0.5\n",
      "..               ...           ...              ...             ...      ...\n",
      "106         0.597715            l2              sag             500      0.6\n",
      "113         0.597715            l2             saga            1000      0.6\n",
      "107         0.597715            l2             saga             500      0.6\n",
      "112         0.597715            l2              sag            1000      0.6\n",
      "111         0.597715            l2  newton-cholesky            1000      0.6\n",
      "\n",
      "[180 rows x 5 columns]\n",
      "--Best Classifier--\n",
      "Mean cv score: 0.5992883993626533\n",
      "Score with unseen data: 0.6018348623853211\n",
      "{'C': 0.5, 'max_iter': 100, 'penalty': 'l2', 'solver': 'liblinear'}\n"
     ]
    }
   ],
   "source": [
    "classifier = LogisticRegression()\n",
    "\n",
    "param_grid = {\n",
    "    'penalty': ['l2'],\n",
    "    'solver': ['lbfgs', 'liblinear', 'newton-cg', 'newton-cholesky', 'sag', 'saga'],\n",
    "    'max_iter': [100, 200, 500, 1000, 2000],\n",
    "    'C': [0.2, 0.4, 0.5, 0.6, 0.7, 1.0]\n",
    "}\n",
    "\n",
    "grid_search = GridSearchCV(estimator=classifier, param_grid=param_grid, cv=5, n_jobs=-2)\n",
    "grid_search.fit(x_train, y_train)\n",
    "\n",
    "scoreRL = pd.DataFrame(grid_search.cv_results_)\n",
    "scoreRL.sort_values(by=\"mean_test_score\", ascending=False, inplace=True)\n",
    "print(scoreRL[[\"mean_test_score\", \"param_penalty\", \"param_solver\", \"param_max_iter\", \"param_C\"]])\n",
    "\n",
    "print(\"--Best Classifier--\")\n",
    "print(f\"Mean cv score: {grid_search.best_score_}\")\n",
    "y_pred = grid_search.best_estimator_.predict(x_test)\n",
    "scoreBestRL = accuracy_score(y_test, y_pred)\n",
    "print(f\"Score with unseen data: {scoreBestRL}\")\n",
    "print(grid_search.best_params_)"
   ]
  },
  {
   "cell_type": "code",
   "execution_count": 78,
   "metadata": {},
   "outputs": [
    {
     "name": "stdout",
     "output_type": "stream",
     "text": [
      "    mean_test_score param_penalty param_solver  param_max_iter  param_C\n",
      "47         0.600075            l1    liblinear            1000      1.0\n",
      "41         0.600075            l1    liblinear             100      1.0\n",
      "45         0.600075            l1    liblinear             500      1.0\n",
      "43         0.600075            l1    liblinear             200      1.0\n",
      "22         0.599288            l2    liblinear            1000      0.5\n",
      "16         0.599288            l2    liblinear             100      0.5\n",
      "20         0.599288            l2    liblinear             500      0.5\n",
      "18         0.599288            l2    liblinear             200      0.5\n",
      "40         0.598895            l2    liblinear             100      1.0\n",
      "42         0.598895            l2    liblinear             200      1.0\n",
      "36         0.598895            l2    liblinear             500      0.7\n",
      "34         0.598895            l2    liblinear             200      0.7\n",
      "32         0.598895            l2    liblinear             100      0.7\n",
      "30         0.598895            l2    liblinear            1000      0.6\n",
      "28         0.598895            l2    liblinear             500      0.6\n",
      "26         0.598895            l2    liblinear             200      0.6\n",
      "44         0.598895            l2    liblinear             500      1.0\n",
      "46         0.598895            l2    liblinear            1000      1.0\n",
      "38         0.598895            l2    liblinear            1000      0.7\n",
      "24         0.598895            l2    liblinear             100      0.6\n",
      "8          0.598502            l2    liblinear             100      0.4\n",
      "14         0.598502            l2    liblinear            1000      0.4\n",
      "10         0.598502            l2    liblinear             200      0.4\n",
      "12         0.598502            l2    liblinear             500      0.4\n",
      "0          0.598107            l2    liblinear             100      0.2\n",
      "2          0.598107            l2    liblinear             200      0.2\n",
      "4          0.598107            l2    liblinear             500      0.2\n",
      "6          0.598107            l2    liblinear            1000      0.2\n",
      "25         0.595750            l1    liblinear             100      0.6\n",
      "27         0.595750            l1    liblinear             200      0.6\n",
      "29         0.595750            l1    liblinear             500      0.6\n",
      "31         0.595750            l1    liblinear            1000      0.6\n",
      "21         0.595355            l1    liblinear             500      0.5\n",
      "19         0.595355            l1    liblinear             200      0.5\n",
      "23         0.595355            l1    liblinear            1000      0.5\n",
      "17         0.595355            l1    liblinear             100      0.5\n",
      "33         0.595354            l1    liblinear             100      0.7\n",
      "35         0.595354            l1    liblinear             200      0.7\n",
      "37         0.595354            l1    liblinear             500      0.7\n",
      "39         0.595354            l1    liblinear            1000      0.7\n",
      "13         0.592998            l1    liblinear             500      0.4\n",
      "9          0.592998            l1    liblinear             100      0.4\n",
      "15         0.592998            l1    liblinear            1000      0.4\n",
      "11         0.592998            l1    liblinear             200      0.4\n",
      "7          0.591818            l1    liblinear            1000      0.2\n",
      "1          0.591818            l1    liblinear             100      0.2\n",
      "5          0.591818            l1    liblinear             500      0.2\n",
      "3          0.591818            l1    liblinear             200      0.2\n",
      "--Best Classifier--\n",
      "Mean cv score: 0.6000750274585028\n",
      "Score with unseen data: 0.6009174311926605\n",
      "{'C': 1.0, 'max_iter': 100, 'penalty': 'l1', 'solver': 'liblinear'}\n"
     ]
    }
   ],
   "source": [
    "classifier = LogisticRegression()\n",
    "\n",
    "param_grid = {\n",
    "    'penalty': ['l2', 'l1'],\n",
    "    'solver': ['liblinear'],\n",
    "    'max_iter': [100, 200, 500, 1000],\n",
    "    'C': [0.2, 0.4, 0.5, 0.6, 0.7, 1.0]\n",
    "}\n",
    "\n",
    "grid_search = GridSearchCV(estimator=classifier, param_grid=param_grid, cv=5, n_jobs=-2)\n",
    "grid_search.fit(x_train, y_train)\n",
    "\n",
    "scoreRL = pd.DataFrame(grid_search.cv_results_)\n",
    "scoreRL.sort_values(by=\"mean_test_score\", ascending=False, inplace=True)\n",
    "print(scoreRL[[\"mean_test_score\", \"param_penalty\", \"param_solver\", \"param_max_iter\", \"param_C\"]])\n",
    "\n",
    "print(\"--Best Classifier--\")\n",
    "print(f\"Mean cv score: {grid_search.best_score_}\")\n",
    "y_pred = grid_search.best_estimator_.predict(x_test)\n",
    "scoreBestRL = accuracy_score(y_test, y_pred)\n",
    "print(f\"Score with unseen data: {scoreBestRL}\")\n",
    "print(grid_search.best_params_)"
   ]
  },
  {
   "cell_type": "markdown",
   "metadata": {
    "id": "oLIfgY_42LiP"
   },
   "source": [
    "Árvore de Decisão"
   ]
  },
  {
   "cell_type": "code",
   "execution_count": 5,
   "metadata": {
    "id": "Zn7bpCxE3ccv"
   },
   "outputs": [
    {
     "name": "stdout",
     "output_type": "stream",
     "text": [
      "[0.61623109 0.60247593 0.59697387 0.62121212 0.63636364]\n",
      "0.6146513275811762\n"
     ]
    }
   ],
   "source": [
    "#CROSS-VALIDAITION (valor de referência)\n",
    "\n",
    "classifier = DecisionTreeClassifier()\n",
    "classifier.fit(base.drop(['Status'], axis=1), base[\"Status\"])\n",
    "\n",
    "scores = cross_val_score(classifier, base.drop(['Status'], axis=1), base[\"Status\"], cv=5)\n",
    "print(scores)\n",
    "print(np.mean(scores))\n"
   ]
  },
  {
   "cell_type": "code",
   "execution_count": 67,
   "metadata": {},
   "outputs": [
    {
     "name": "stdout",
     "output_type": "stream",
     "text": [
      "      mean_test_score  param_min_samples_leaf param_max_depth param_criterion  \\\n",
      "1889         0.693273                      50             500        log_loss   \n",
      "246          0.693273                      50              50         entropy   \n",
      "120          0.693273                      50            None         entropy   \n",
      "119          0.693273                      50            None         entropy   \n",
      "503          0.693273                      50             200         entropy   \n",
      "...               ...                     ...             ...             ...   \n",
      "435          0.611086                       3             200         entropy   \n",
      "1051         0.611086                       1             200            gini   \n",
      "679          0.610317                       2            None            gini   \n",
      "1806         0.610304                       1             500        log_loss   \n",
      "883          0.606761                       1             100            gini   \n",
      "\n",
      "      param_min_samples_split param_max_features  \n",
      "1889                      100                 16  \n",
      "246                         4                 16  \n",
      "120                         4                 16  \n",
      "119                         2                 16  \n",
      "503                       100                 16  \n",
      "...                       ...                ...  \n",
      "435                         4                  6  \n",
      "1051                        4                  6  \n",
      "679                         2                  6  \n",
      "1806                        2                  6  \n",
      "883                         4               sqrt  \n",
      "\n",
      "[1890 rows x 6 columns]\n",
      "--Best Classifier--\n",
      "Mean cv score: 0.6932730535402132\n",
      "Score with unseen data: 0.6724770642201835\n",
      "{'criterion': 'entropy', 'max_depth': None, 'max_features': 16, 'min_samples_leaf': 50, 'min_samples_split': 2}\n"
     ]
    }
   ],
   "source": [
    "classifier = DecisionTreeClassifier()\n",
    "\n",
    "param_grid = {\n",
    "    'min_samples_leaf': [1, 2, 3, 5, 10, 50],\n",
    "    'min_samples_split': [2, 4, 6, 10, 12, 20, 100],\n",
    "    'max_depth': [None, 50, 100, 200, 500],\n",
    "    'criterion': ['entropy', 'gini', 'log_loss'],\n",
    "    'max_features': ['sqrt', 6, 16]\n",
    "}\n",
    "\n",
    "grid_search = GridSearchCV(estimator=classifier, param_grid=param_grid, cv=5, n_jobs=-2)\n",
    "grid_search.fit(x_train, y_train)\n",
    "\n",
    "scoreDT = pd.DataFrame(grid_search.cv_results_)\n",
    "scoreDT.sort_values(by=\"mean_test_score\", ascending=False, inplace=True)\n",
    "print(scoreDT[[\"mean_test_score\", \"param_min_samples_leaf\", \"param_max_depth\", \"param_criterion\", \"param_min_samples_split\", \"param_max_features\"]])\n",
    "\n",
    "print(\"--Best Classifier--\")\n",
    "print(f\"Mean cv score: {grid_search.best_score_}\")\n",
    "y_pred = grid_search.best_estimator_.predict(x_test)\n",
    "scoreBestDT = accuracy_score(y_test, y_pred)\n",
    "print(f\"Score with unseen data: {scoreBestDT}\")\n",
    "print(grid_search.best_params_)"
   ]
  },
  {
   "cell_type": "markdown",
   "metadata": {
    "id": "pORxcdVn4q39"
   },
   "source": [
    "Random Forest (Floresta Aleatória)"
   ]
  },
  {
   "cell_type": "code",
   "execution_count": 9,
   "metadata": {
    "id": "bpEseOrd6Y5K"
   },
   "outputs": [
    {
     "name": "stdout",
     "output_type": "stream",
     "text": [
      "[0.63823934 0.69463549 0.68088033 0.6969697  0.684573  ]\n",
      "0.6790595715817673\n"
     ]
    }
   ],
   "source": [
    "#CROSS-VALIDAITION (valor referência)\n",
    "\n",
    "classifier = RandomForestClassifier()\n",
    "classifier.fit(base.drop(['Status'], axis=1), base[\"Status\"])\n",
    "\n",
    "scores = cross_val_score(classifier, base.drop(['Status'], axis=1), base[\"Status\"], cv=5)\n",
    "print(scores)\n",
    "print(np.mean(scores))"
   ]
  },
  {
   "cell_type": "code",
   "execution_count": 68,
   "metadata": {},
   "outputs": [
    {
     "name": "stdout",
     "output_type": "stream",
     "text": [
      "     mean_test_score  param_n_estimators param_criterion param_max_features  \\\n",
      "75          0.710965                 250            gini               sqrt   \n",
      "167         0.709782                1000         entropy               sqrt   \n",
      "131         0.709393                1000            gini               sqrt   \n",
      "112         0.709392                 500            gini               sqrt   \n",
      "147         0.709000                 250         entropy               sqrt   \n",
      "..               ...                 ...             ...                ...   \n",
      "68          0.679897                 100        log_loss                 16   \n",
      "198         0.679111                  20         entropy               sqrt   \n",
      "156         0.677155                  20         entropy                 16   \n",
      "48          0.675973                  20        log_loss                 16   \n",
      "210         0.672828                  20         entropy                 16   \n",
      "\n",
      "    param_max_depth  \n",
      "75             None  \n",
      "167             100  \n",
      "131             500  \n",
      "112             250  \n",
      "147            None  \n",
      "..              ...  \n",
      "68              500  \n",
      "198             500  \n",
      "156            None  \n",
      "48              250  \n",
      "210             500  \n",
      "\n",
      "[216 rows x 5 columns]\n",
      "--Best Classifier--\n",
      "Mean cv score: 0.7109648376467677\n",
      "Score with unseen data: 0.6871559633027523\n",
      "{'criterion': 'gini', 'max_depth': None, 'max_features': 'sqrt', 'n_estimators': 250}\n"
     ]
    }
   ],
   "source": [
    "classifier = RandomForestClassifier()\n",
    "\n",
    "param_grid = {\n",
    "    'n_estimators': [20, 50, 100, 250, 500, 1000],\n",
    "    'criterion': ['log_loss', 'gini', 'entropy'],\n",
    "    'max_features': ['sqrt', 6, 16],\n",
    "    'max_depth': [None, 100, 250, 500]\n",
    "}\n",
    "\n",
    "grid_search = GridSearchCV(estimator=classifier, param_grid=param_grid, cv=5, n_jobs=-2)\n",
    "grid_search.fit(x_train, y_train)\n",
    "\n",
    "scoreRF = pd.DataFrame(grid_search.cv_results_)\n",
    "scoreRF.sort_values(by=\"mean_test_score\", ascending=False, inplace=True)\n",
    "print(scoreRF[[\"mean_test_score\", \"param_n_estimators\", \"param_criterion\", \"param_max_features\", \"param_max_depth\"]])\n",
    "\n",
    "print(\"--Best Classifier--\")\n",
    "print(f\"Mean cv score: {grid_search.best_score_}\")\n",
    "y_pred = grid_search.best_estimator_.predict(x_test)\n",
    "scoreBestRF = accuracy_score(y_test, y_pred)\n",
    "print(f\"Score with unseen data: {scoreBestRF}\")\n",
    "print(grid_search.best_params_)"
   ]
  },
  {
   "cell_type": "markdown",
   "metadata": {},
   "source": [
    "SVM"
   ]
  },
  {
   "cell_type": "code",
   "execution_count": 10,
   "metadata": {},
   "outputs": [
    {
     "name": "stdout",
     "output_type": "stream",
     "text": [
      "[0.58046768 0.59009629 0.64786795 0.58815427 0.58815427]\n",
      "0.5989480903823783\n"
     ]
    }
   ],
   "source": [
    "#CROSS VALIDATION (Valor referência)\n",
    "\n",
    "classifier = SVC()\n",
    "classifier.fit(base.drop(['Status'], axis=1), base[\"Status\"])\n",
    "\n",
    "scores = cross_val_score(classifier, base.drop(['Status'], axis=1), base[\"Status\"], cv=5)\n",
    "print(scores)\n",
    "print(np.mean(scores))"
   ]
  },
  {
   "cell_type": "code",
   "execution_count": 82,
   "metadata": {},
   "outputs": [
    {
     "name": "stdout",
     "output_type": "stream",
     "text": [
      "    mean_test_score param_kernel  param_C  param_gamma\n",
      "19         0.610308          rbf      0.4         0.50\n",
      "77         0.609919          rbf      2.0         0.30\n",
      "45         0.609917          rbf      0.7         1.00\n",
      "69         0.609520          rbf      1.0         1.00\n",
      "57         0.608734          rbf      0.9         1.00\n",
      "..              ...          ...      ...          ...\n",
      "6          0.582378       linear      0.2         0.50\n",
      "4          0.582378       linear      0.2         0.30\n",
      "2          0.582378       linear      0.2         0.10\n",
      "0          0.582378       linear      0.2         0.05\n",
      "11         0.575703          rbf      0.2         2.00\n",
      "\n",
      "[84 rows x 4 columns]\n",
      "--Best Classifier--\n",
      "Mean cv score: 0.6103081540151292\n",
      "Score with unseen data: 0.5954128440366973\n",
      "{'C': 0.4, 'gamma': 0.5, 'kernel': 'rbf'}\n"
     ]
    }
   ],
   "source": [
    "classifier = SVC()\n",
    "\n",
    "param_grid = {\n",
    "    'kernel': ['linear', 'rbf'],\n",
    "    'C': [0.2, 0.4, 0.5, 0.7, 0.9, 1.0, 2.0],\n",
    "    'gamma': [0.05, 0.1, 0.3, 0.5, 1.0, 2.0]\n",
    "}\n",
    "\n",
    "grid_search = GridSearchCV(estimator=classifier, param_grid=param_grid, cv=5, n_jobs=-2)\n",
    "grid_search.fit(x_train, y_train)\n",
    "\n",
    "scoreSVM = pd.DataFrame(grid_search.cv_results_)\n",
    "scoreSVM.sort_values(by=\"mean_test_score\", ascending=False, inplace=True)\n",
    "print(scoreSVM[[\"mean_test_score\", \"param_kernel\", \"param_C\", \"param_gamma\"]])\n",
    "\n",
    "print(\"--Best Classifier--\")\n",
    "print(f\"Mean cv score: {grid_search.best_score_}\")\n",
    "y_pred = grid_search.best_estimator_.predict(x_test)\n",
    "scoreBestSVM = accuracy_score(y_test, y_pred)\n",
    "print(f\"Score with unseen data: {scoreBestSVM}\")\n",
    "print(grid_search.best_params_)"
   ]
  },
  {
   "cell_type": "markdown",
   "metadata": {},
   "source": [
    "Avaliação do melhor modelo"
   ]
  },
  {
   "cell_type": "code",
   "execution_count": null,
   "metadata": {},
   "outputs": [
    {
     "name": "stdout",
     "output_type": "stream",
     "text": [
      "0.6844036697247706\n",
      "[[334 171]\n",
      " [173 412]]\n",
      "0.6613861386138614\n",
      "0.7042735042735043\n",
      "(1090, 16)\n"
     ]
    }
   ],
   "source": [
    "#Avaliação do modelo com melhores hiper parâmetros\n",
    "\n",
    "classifier = RandomForestClassifier(n_estimators=250, criterion='gini', max_features='sqrt', max_depth=None)\n",
    "classifier.fit(x_train, y_train)\n",
    "\n",
    "y_pred = classifier.predict(x_test)\n",
    "simple_score = accuracy_score(y_test, y_pred)\n",
    "\n",
    "from sklearn.metrics import confusion_matrix\n",
    "val = confusion_matrix(y_test, y_pred)\n",
    "\n",
    "print(simple_score)\n",
    "print(val)\n",
    "\n",
    "print((val[0][0])/(val[0][0]+val[0][1]))\n",
    "print((val[1][1])/(val[1][0]+val[1][1]))\n",
    "print(x_test.shape)"
   ]
  }
 ],
 "metadata": {
  "colab": {
   "provenance": []
  },
  "kernelspec": {
   "display_name": "Python 3",
   "name": "python3"
  },
  "language_info": {
   "codemirror_mode": {
    "name": "ipython",
    "version": 3
   },
   "file_extension": ".py",
   "mimetype": "text/x-python",
   "name": "python",
   "nbconvert_exporter": "python",
   "pygments_lexer": "ipython3",
   "version": "3.11.9"
  }
 },
 "nbformat": 4,
 "nbformat_minor": 0
}
